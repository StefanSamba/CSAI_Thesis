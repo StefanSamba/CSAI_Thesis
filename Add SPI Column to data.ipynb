{
 "cells": [
  {
   "cell_type": "code",
   "execution_count": 3,
   "metadata": {},
   "outputs": [],
   "source": [
    "import pandas as pd"
   ]
  },
  {
   "cell_type": "code",
   "execution_count": 18,
   "metadata": {},
   "outputs": [],
   "source": [
    "df = pd.read_csv(\"spi_england\")"
   ]
  },
  {
   "cell_type": "code",
   "execution_count": 19,
   "metadata": {},
   "outputs": [
    {
     "data": {
      "text/plain": [
       "league\n",
       "Barclays Premier League        71.448500\n",
       "English League Championship    49.067917\n",
       "English League One             24.935833\n",
       "English League Two             13.049583\n",
       "Name: spi, dtype: float64"
      ]
     },
     "execution_count": 19,
     "metadata": {},
     "output_type": "execute_result"
    }
   ],
   "source": [
    "df.groupby([ 'league']).mean()['spi']"
   ]
  },
  {
   "cell_type": "code",
   "execution_count": 20,
   "metadata": {},
   "outputs": [],
   "source": [
    "teams = ['Arsenal', 'Bolton', 'Everton', 'Newcastle', 'Portsmouth', 'Reading', 'Sheffield United', 'West Ham', 'Chelsea', 'Man United', 'Tottenham', 'Watford', 'Aston Villa', 'Blackburn', 'Charlton', 'Fulham', 'Man City', 'Middlesbrough', 'Liverpool', 'Wigan', 'Barnsley', 'Birmingham', 'Burnley', 'Ipswich', 'Leeds', 'Luton', 'Plymouth', 'Preston', 'Southend', 'West Brom', 'Coventry', 'Derby', 'Cardiff', 'Colchester', 'Crystal Palace', 'Hull', 'Leicester', 'Norwich', 'QPR', 'Sheffield Weds', 'Stoke', 'Wolves', 'Southampton', 'Sunderland', 'Bournemouth', 'Brentford', 'Bristol City', 'Carlisle', 'Crewe', 'Gillingham', 'Millwall', \"Nott'm Forest\", 'Port Vale', 'Rotherham', 'Swansea', 'Tranmere', 'Blackpool', 'Bradford', 'Brighton', 'Cheltenham', 'Doncaster', 'Huddersfield', 'Leyton Orient', 'Northampton', 'Oldham', 'Scunthorpe', 'Yeovil', 'Chesterfield', 'Barnet', 'Chester', 'Darlington', 'Grimsby', 'Hartlepool', 'Lincoln', 'Milton Keynes Dons', 'Peterboro', 'Rochdale', 'Shrewsbury', 'Stockport', 'Wycombe', 'Accrington', 'Bristol Rvs', 'Bury', 'Hereford', 'Macclesfield', 'Mansfield', 'Notts County', 'Swindon', 'Torquay', 'Walsall', 'Wrexham', 'Boston', 'Morecambe', 'Dag and Red', 'Aldershot', 'Exeter', 'Burton', 'Stevenage', 'Oxford', 'AFC Wimbledon', 'Crawley Town', 'Fleetwood Town', 'York', 'Newport County', 'Cambridge', 'Forest Green']\n",
    "\n"
   ]
  },
  {
   "cell_type": "code",
   "execution_count": 24,
   "metadata": {},
   "outputs": [
    {
     "name": "stdout",
     "output_type": "stream",
     "text": [
      "Bradford\n",
      "Leyton Orient\n",
      "Chesterfield\n",
      "Barnet\n",
      "Chester\n",
      "Darlington\n",
      "Hartlepool\n",
      "Stockport\n",
      "Hereford\n",
      "Torquay\n",
      "Wrexham\n",
      "Boston\n",
      "Dag and Red\n",
      "Aldershot\n",
      "York\n"
     ]
    }
   ],
   "source": [
    "for team in teams:\n",
    "    if team not in list(df['name'].unique()):\n",
    "        print(team)"
   ]
  },
  {
   "cell_type": "code",
   "execution_count": 84,
   "metadata": {},
   "outputs": [],
   "source": [
    "spi_home = []\n",
    "for team in season[\"HomeTeam\"]:\n",
    "    spi_home.append(float(df.loc[df['name'] == team]['spi']))\n",
    "\n",
    "spi_away = []\n",
    "for team in season[\"AwayTeam\"]:\n",
    "    spi_away.append(float(df.loc[df['name'] == team]['spi']))"
   ]
  },
  {
   "cell_type": "code",
   "execution_count": 47,
   "metadata": {},
   "outputs": [],
   "source": [
    "season = pd.read_csv(\"Season 2017 2018 Premier League.csv\")"
   ]
  },
  {
   "cell_type": "code",
   "execution_count": 86,
   "metadata": {},
   "outputs": [],
   "source": [
    "season[\"H_TS\"] = spi_home\n",
    "season[\"A_TS\"] = spi_away"
   ]
  },
  {
   "cell_type": "code",
   "execution_count": 88,
   "metadata": {},
   "outputs": [],
   "source": [
    "# add column with team strength\n",
    "#for file in all_files[:2]:\n",
    "spi_england = pd.read_csv(\"spi_england\")\n",
    "season = pd.read_csv(\"Season 2017 2018 Premier League.csv\")\n",
    "    \n",
    "spi_home = []\n",
    "for team in season[\"HomeTeam\"]:\n",
    "    number_home = int(spi_england[spi_england['name'] == team]['spi'].iloc[-1])\n",
    "    spi_home.append(number_home)\n",
    "\n",
    "spi_away = []\n",
    "for team in season[\"AwayTeam\"]:\n",
    "    number_away = int(spi_england[spi_england['name'] == team]['spi'].iloc[-1])\n",
    "    spi_away.append(number_away)\n",
    "season[\"H_TS\"] = spi_home\n",
    "season[\"A_TS\"] = spi_away"
   ]
  },
  {
   "cell_type": "code",
   "execution_count": 89,
   "metadata": {},
   "outputs": [
    {
     "data": {
      "text/plain": [
       "dtype('int64')"
      ]
     },
     "execution_count": 89,
     "metadata": {},
     "output_type": "execute_result"
    }
   ],
   "source": [
    "season[\"H_TS\"].dtypes"
   ]
  },
  {
   "cell_type": "code",
   "execution_count": null,
   "metadata": {},
   "outputs": [],
   "source": []
  }
 ],
 "metadata": {
  "kernelspec": {
   "display_name": "Python 3",
   "language": "python",
   "name": "python3"
  },
  "language_info": {
   "codemirror_mode": {
    "name": "ipython",
    "version": 3
   },
   "file_extension": ".py",
   "mimetype": "text/x-python",
   "name": "python",
   "nbconvert_exporter": "python",
   "pygments_lexer": "ipython3",
   "version": "3.7.1"
  }
 },
 "nbformat": 4,
 "nbformat_minor": 2
}
