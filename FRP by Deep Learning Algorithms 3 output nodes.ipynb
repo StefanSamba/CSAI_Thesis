{
 "cells": [
  {
   "cell_type": "code",
   "execution_count": 9,
   "metadata": {},
   "outputs": [],
   "source": [
    "import numpy as np\n",
    "import pandas as pd\n",
    "from sklearn.model_selection import train_test_split\n",
    "import plotly\n",
    "import plotly.plotly as py\n",
    "import plotly.tools as tls\n",
    "import matplotlib.pyplot as plt; plt.rcdefaults()\n",
    "import matplotlib.pyplot as plt"
   ]
  },
  {
   "cell_type": "markdown",
   "metadata": {},
   "source": [
    "# Factorize & select required columns"
   ]
  },
  {
   "cell_type": "code",
   "execution_count": 10,
   "metadata": {},
   "outputs": [
    {
     "name": "stdout",
     "output_type": "stream",
     "text": [
      "(24029, 104)\n"
     ]
    }
   ],
   "source": [
    "df = pd.read_csv(\"all_files_spi.csv\")\n",
    "H = []\n",
    "D = []\n",
    "A = []\n",
    "\n",
    "print(df.shape)\n",
    "for i in range(len(df['FTR'])):\n",
    "    if df['FTR'][i] == \"H\":\n",
    "        H.append(1)\n",
    "        A.append(0)\n",
    "        D.append(0)\n",
    "    if df['FTR'][i] == \"D\":\n",
    "        H.append(0)\n",
    "        A.append(0)\n",
    "        D.append(1)\n",
    "    if df['FTR'][i] == \"A\":\n",
    "        H.append(0)\n",
    "        A.append(1)\n",
    "        D.append(0)\n",
    "        #df['D'][i] = 0\n",
    "       # df['A'][i] = 0\n",
    "df['H']= H\n",
    "df['D']= D\n",
    "df['A']= A"
   ]
  },
  {
   "cell_type": "code",
   "execution_count": null,
   "metadata": {},
   "outputs": [],
   "source": []
  },
  {
   "cell_type": "code",
   "execution_count": 13,
   "metadata": {},
   "outputs": [],
   "source": [
    "#df['label'] = pd.factorize(df['FTR'])[0]\n",
    "#df['HomeTeam'] = pd.factorize(df['HomeTeam'])[0]\n",
    "#df['AwayTeam'] = pd.factorize(df['AwayTeam'])[0]\n",
    "df['Referee'] = pd.factorize(df['Referee'])[0]\n",
    "df['Div'] = pd.factorize(df['Div'])[0]\n",
    "# 0 = premier league\n",
    "df['Season'] = pd.factorize(df['Season'])[0]\n"
   ]
  },
  {
   "cell_type": "code",
   "execution_count": 14,
   "metadata": {},
   "outputs": [],
   "source": [
    "req_columns =['Season', 'Div',#'HomeTeam', 'AwayTeam',\n",
    "              'Referee',\n",
    "              \n",
    "              #Bookmakers\n",
    "              'B365H', 'B365D', 'B365A', 'BWH', 'BWD', 'BWA', 'IWH', 'IWD', 'IWA', \n",
    "              'LBH', 'LBD', 'LBA', 'WHH', 'WHD', 'WHA',  \n",
    "              'VCH', 'VCD', 'VCA', \n",
    "              \n",
    "\n",
    "              \n",
    "              # Team dependent feat\n",
    "              # Away Team\n",
    "              'C_AC', 'C_AF', 'C_AR', 'C_AS', 'C_AST', 'C_AY', 'C_FTAG', \"spi_A\",'C_FTAP','F_AT',\n",
    "              \n",
    "              # Home Team\n",
    "              'C_HC', 'C_HF', 'C_HR', 'C_HS', 'C_HST', 'C_HY', 'C_FTHG', \"spi\",'C_FTHP', 'F_HT',\n",
    "              \n",
    "              # Current match --> 'FTHP', 'FTAP',\n",
    "              \n",
    "            \n",
    "             \"spi_A\",\"spi\",\n",
    "              'H','A','D'\n",
    "             ]\n",
    "     \n",
    "\n",
    "df = df[req_columns]\n"
   ]
  },
  {
   "cell_type": "markdown",
   "metadata": {},
   "source": [
    "# Dd to Np & Fill NaN "
   ]
  },
  {
   "cell_type": "code",
   "execution_count": 15,
   "metadata": {},
   "outputs": [
    {
     "name": "stderr",
     "output_type": "stream",
     "text": [
      "/Users/stefansamba/anaconda3/lib/python3.7/site-packages/pandas/core/frame.py:3790: SettingWithCopyWarning:\n",
      "\n",
      "\n",
      "A value is trying to be set on a copy of a slice from a DataFrame\n",
      "\n",
      "See the caveats in the documentation: http://pandas.pydata.org/pandas-docs/stable/indexing.html#indexing-view-versus-copy\n",
      "\n"
     ]
    }
   ],
   "source": [
    "df.fillna(0, inplace=True) # data = np.array(df)\n",
    "\n",
    "\n",
    "data = np.array(df)\n",
    "#data = data / (data.max(axis=0))\n",
    "#data = np.nan_to_num(data)\n"
   ]
  },
  {
   "cell_type": "markdown",
   "metadata": {},
   "source": [
    "# Train Test Split"
   ]
  },
  {
   "cell_type": "code",
   "execution_count": 16,
   "metadata": {},
   "outputs": [
    {
     "name": "stdout",
     "output_type": "stream",
     "text": [
      "[1. 0. 0.]\n"
     ]
    }
   ],
   "source": [
    "X = data[:,:-3]\n",
    "y = data[:,-3:]\n",
    "\n",
    "X = X / (X.max(axis=0))\n",
    "\n",
    "\n",
    "print(y[0])"
   ]
  },
  {
   "cell_type": "code",
   "execution_count": 139,
   "metadata": {},
   "outputs": [],
   "source": [
    "X_train, X_test, y_train, y_test = train_test_split( X, y, test_size=0.2, random_state=42, shuffle=True) \n",
    "X_train, X_val, y_train, y_val = train_test_split( X_train, y_train, test_size=0.25, random_state=42,shuffle=True)\n",
    "\n",
    "# In this way, train, val, test set will be 60%, 20%, 20% of the dataset respectively.\n",
    "\n",
    "x_len = X_train.shape[1]\n",
    "\n",
    "tot = len(X)\n"
   ]
  },
  {
   "cell_type": "markdown",
   "metadata": {},
   "source": [
    "# Multilayer Perceptron"
   ]
  },
  {
   "cell_type": "code",
   "execution_count": 112,
   "metadata": {},
   "outputs": [
    {
     "data": {
      "text/plain": [
       "'2.2.4'"
      ]
     },
     "execution_count": 112,
     "metadata": {},
     "output_type": "execute_result"
    }
   ],
   "source": [
    "import keras\n",
    "keras.__version__"
   ]
  },
  {
   "cell_type": "code",
   "execution_count": 113,
   "metadata": {},
   "outputs": [
    {
     "name": "stdout",
     "output_type": "stream",
     "text": [
      "43\n"
     ]
    }
   ],
   "source": [
    "len1 = int(len(X_train[1]))\n",
    "print(len1)"
   ]
  },
  {
   "cell_type": "code",
   "execution_count": 125,
   "metadata": {},
   "outputs": [],
   "source": [
    "from keras import models\n",
    "from keras import layers\n",
    "\n",
    "# number of hidden neurons can vary from 1 to 16\n",
    "#hidden = 16\n",
    "network = models.Sequential()\n",
    "\n",
    "network.add(layers.Dense(10, use_bias='true', activation='sigmoid', input_shape=(len1,)))\n",
    "\n",
    "\n",
    "network.add(layers.Dense(3, use_bias='true', activation='sigmoid'))"
   ]
  },
  {
   "cell_type": "code",
   "execution_count": 126,
   "metadata": {},
   "outputs": [
    {
     "data": {
      "text/plain": [
       "<keras.initializers.RandomNormal at 0x1a2cbccdd8>"
      ]
     },
     "execution_count": 126,
     "metadata": {},
     "output_type": "execute_result"
    }
   ],
   "source": [
    "keras.initializers.RandomNormal(mean=0.0, stddev=0.05)"
   ]
  },
  {
   "cell_type": "code",
   "execution_count": 129,
   "metadata": {},
   "outputs": [],
   "source": [
    "keras.optimizers.SGD(lr=0.1, momentum=0.0, decay=0.0, nesterov=False)\n",
    "\n",
    "network.compile(optimizer='sgd',\n",
    "                loss='categorical_crossentropy',\n",
    "                metrics=['accuracy'])"
   ]
  },
  {
   "cell_type": "code",
   "execution_count": 130,
   "metadata": {},
   "outputs": [
    {
     "name": "stdout",
     "output_type": "stream",
     "text": [
      "Train on 14417 samples, validate on 4806 samples\n",
      "Epoch 1/200\n",
      "14417/14417 [==============================] - 3s 240us/step - loss: 1.1223 - acc: 0.3549 - val_loss: 1.0775 - val_acc: 0.4395\n",
      "Epoch 2/200\n",
      "14417/14417 [==============================] - 1s 81us/step - loss: 1.0750 - acc: 0.4366 - val_loss: 1.0726 - val_acc: 0.4395\n",
      "Epoch 3/200\n",
      "14417/14417 [==============================] - 1s 58us/step - loss: 1.0732 - acc: 0.4366 - val_loss: 1.0723 - val_acc: 0.4395\n",
      "Epoch 4/200\n",
      "14417/14417 [==============================] - 1s 77us/step - loss: 1.0729 - acc: 0.4366 - val_loss: 1.0719 - val_acc: 0.4395\n",
      "Epoch 5/200\n",
      "14417/14417 [==============================] - 2s 108us/step - loss: 1.0726 - acc: 0.4366 - val_loss: 1.0716 - val_acc: 0.4395\n",
      "Epoch 6/200\n",
      "14417/14417 [==============================] - 1s 75us/step - loss: 1.0723 - acc: 0.4366 - val_loss: 1.0714 - val_acc: 0.4395\n",
      "Epoch 7/200\n",
      "14417/14417 [==============================] - 1s 87us/step - loss: 1.0720 - acc: 0.4366 - val_loss: 1.0711 - val_acc: 0.4395\n",
      "Epoch 8/200\n",
      "14417/14417 [==============================] - 1s 61us/step - loss: 1.0717 - acc: 0.4366 - val_loss: 1.0706 - val_acc: 0.4395\n",
      "Epoch 9/200\n",
      "14417/14417 [==============================] - 1s 72us/step - loss: 1.0714 - acc: 0.4366 - val_loss: 1.0703 - val_acc: 0.4395\n",
      "Epoch 10/200\n",
      "14417/14417 [==============================] - 1s 57us/step - loss: 1.0710 - acc: 0.4366 - val_loss: 1.0701 - val_acc: 0.4395\n",
      "Epoch 11/200\n",
      "14417/14417 [==============================] - 1s 58us/step - loss: 1.0707 - acc: 0.4366 - val_loss: 1.0698 - val_acc: 0.4395\n",
      "Epoch 12/200\n",
      "14417/14417 [==============================] - 1s 54us/step - loss: 1.0704 - acc: 0.4366 - val_loss: 1.0692 - val_acc: 0.4395\n",
      "Epoch 13/200\n",
      "14417/14417 [==============================] - 1s 56us/step - loss: 1.0700 - acc: 0.4366 - val_loss: 1.0690 - val_acc: 0.4395\n",
      "Epoch 14/200\n",
      "14417/14417 [==============================] - 1s 54us/step - loss: 1.0696 - acc: 0.4366 - val_loss: 1.0686 - val_acc: 0.4395\n",
      "Epoch 15/200\n",
      "14417/14417 [==============================] - 1s 57us/step - loss: 1.0692 - acc: 0.4366 - val_loss: 1.0682 - val_acc: 0.4395\n",
      "Epoch 16/200\n",
      "14417/14417 [==============================] - 1s 54us/step - loss: 1.0687 - acc: 0.4366 - val_loss: 1.0676 - val_acc: 0.4395\n",
      "Epoch 17/200\n",
      "14417/14417 [==============================] - 1s 54us/step - loss: 1.0683 - acc: 0.4366 - val_loss: 1.0671 - val_acc: 0.4395\n",
      "Epoch 18/200\n",
      "14417/14417 [==============================] - 1s 59us/step - loss: 1.0678 - acc: 0.4366 - val_loss: 1.0666 - val_acc: 0.4395\n",
      "Epoch 19/200\n",
      "14417/14417 [==============================] - 1s 58us/step - loss: 1.0673 - acc: 0.4366 - val_loss: 1.0662 - val_acc: 0.4395\n",
      "Epoch 20/200\n",
      "14417/14417 [==============================] - 1s 52us/step - loss: 1.0668 - acc: 0.4366 - val_loss: 1.0656 - val_acc: 0.4399\n",
      "Epoch 21/200\n",
      "14417/14417 [==============================] - 1s 53us/step - loss: 1.0663 - acc: 0.4366 - val_loss: 1.0651 - val_acc: 0.4399\n",
      "Epoch 22/200\n",
      "14417/14417 [==============================] - 1s 64us/step - loss: 1.0657 - acc: 0.4366 - val_loss: 1.0646 - val_acc: 0.4403\n",
      "Epoch 23/200\n",
      "14417/14417 [==============================] - 1s 70us/step - loss: 1.0651 - acc: 0.4367 - val_loss: 1.0640 - val_acc: 0.4403\n",
      "Epoch 24/200\n",
      "14417/14417 [==============================] - 1s 87us/step - loss: 1.0645 - acc: 0.4368 - val_loss: 1.0633 - val_acc: 0.4407\n",
      "Epoch 25/200\n",
      "14417/14417 [==============================] - 1s 96us/step - loss: 1.0639 - acc: 0.4370 - val_loss: 1.0627 - val_acc: 0.4411\n",
      "Epoch 26/200\n",
      "14417/14417 [==============================] - 1s 82us/step - loss: 1.0632 - acc: 0.4371 - val_loss: 1.0619 - val_acc: 0.4411\n",
      "Epoch 27/200\n",
      "14417/14417 [==============================] - 1s 82us/step - loss: 1.0625 - acc: 0.4380 - val_loss: 1.0610 - val_acc: 0.4413\n",
      "Epoch 28/200\n",
      "14417/14417 [==============================] - 1s 72us/step - loss: 1.0618 - acc: 0.4386 - val_loss: 1.0604 - val_acc: 0.4411\n",
      "Epoch 29/200\n",
      "14417/14417 [==============================] - 1s 55us/step - loss: 1.0610 - acc: 0.4387 - val_loss: 1.0596 - val_acc: 0.4419\n",
      "Epoch 30/200\n",
      "14417/14417 [==============================] - 1s 50us/step - loss: 1.0603 - acc: 0.4400 - val_loss: 1.0590 - val_acc: 0.4438\n",
      "Epoch 31/200\n",
      "14417/14417 [==============================] - 1s 54us/step - loss: 1.0595 - acc: 0.4430 - val_loss: 1.0580 - val_acc: 0.4428\n",
      "Epoch 32/200\n",
      "14417/14417 [==============================] - 1s 53us/step - loss: 1.0587 - acc: 0.4433 - val_loss: 1.0572 - val_acc: 0.4440\n",
      "Epoch 33/200\n",
      "14417/14417 [==============================] - 1s 58us/step - loss: 1.0579 - acc: 0.4443 - val_loss: 1.0565 - val_acc: 0.4476\n",
      "Epoch 34/200\n",
      "14417/14417 [==============================] - 1s 55us/step - loss: 1.0570 - acc: 0.4467 - val_loss: 1.0558 - val_acc: 0.4496\n",
      "Epoch 35/200\n",
      "14417/14417 [==============================] - 1s 62us/step - loss: 1.0562 - acc: 0.4486 - val_loss: 1.0548 - val_acc: 0.4478\n",
      "Epoch 36/200\n",
      "14417/14417 [==============================] - 1s 62us/step - loss: 1.0554 - acc: 0.4498 - val_loss: 1.0539 - val_acc: 0.4505\n",
      "Epoch 37/200\n",
      "14417/14417 [==============================] - 1s 77us/step - loss: 1.0544 - acc: 0.4501 - val_loss: 1.0531 - val_acc: 0.4557\n",
      "Epoch 38/200\n",
      "14417/14417 [==============================] - 1s 55us/step - loss: 1.0536 - acc: 0.4525 - val_loss: 1.0525 - val_acc: 0.4625\n",
      "Epoch 39/200\n",
      "14417/14417 [==============================] - 2s 107us/step - loss: 1.0528 - acc: 0.4558 - val_loss: 1.0515 - val_acc: 0.4625\n",
      "Epoch 40/200\n",
      "14417/14417 [==============================] - 1s 72us/step - loss: 1.0520 - acc: 0.4568 - val_loss: 1.0506 - val_acc: 0.4638\n",
      "Epoch 41/200\n",
      "14417/14417 [==============================] - 1s 70us/step - loss: 1.0511 - acc: 0.4567 - val_loss: 1.0499 - val_acc: 0.4634\n",
      "Epoch 42/200\n",
      "14417/14417 [==============================] - 1s 72us/step - loss: 1.0503 - acc: 0.4588 - val_loss: 1.0492 - val_acc: 0.4636\n",
      "Epoch 43/200\n",
      "14417/14417 [==============================] - 1s 56us/step - loss: 1.0496 - acc: 0.4593 - val_loss: 1.0484 - val_acc: 0.4642\n",
      "Epoch 44/200\n",
      "14417/14417 [==============================] - 1s 58us/step - loss: 1.0488 - acc: 0.4606 - val_loss: 1.0476 - val_acc: 0.4630\n",
      "Epoch 45/200\n",
      "14417/14417 [==============================] - 1s 73us/step - loss: 1.0481 - acc: 0.4597 - val_loss: 1.0470 - val_acc: 0.4661\n",
      "Epoch 46/200\n",
      "14417/14417 [==============================] - 1s 66us/step - loss: 1.0474 - acc: 0.4624 - val_loss: 1.0462 - val_acc: 0.4655\n",
      "Epoch 47/200\n",
      "14417/14417 [==============================] - 1s 59us/step - loss: 1.0468 - acc: 0.4632 - val_loss: 1.0455 - val_acc: 0.4671\n",
      "Epoch 48/200\n",
      "14417/14417 [==============================] - 1s 54us/step - loss: 1.0461 - acc: 0.4644 - val_loss: 1.0450 - val_acc: 0.4684\n",
      "Epoch 49/200\n",
      "14417/14417 [==============================] - 1s 52us/step - loss: 1.0454 - acc: 0.4642 - val_loss: 1.0447 - val_acc: 0.4698\n",
      "Epoch 50/200\n",
      "14417/14417 [==============================] - 1s 52us/step - loss: 1.0446 - acc: 0.4669 - val_loss: 1.0437 - val_acc: 0.4657\n",
      "Epoch 51/200\n",
      "14417/14417 [==============================] - 1s 65us/step - loss: 1.0443 - acc: 0.4654 - val_loss: 1.0432 - val_acc: 0.4682\n",
      "Epoch 52/200\n",
      "14417/14417 [==============================] - 1s 51us/step - loss: 1.0438 - acc: 0.4664 - val_loss: 1.0428 - val_acc: 0.4705\n",
      "Epoch 53/200\n",
      "14417/14417 [==============================] - 1s 73us/step - loss: 1.0433 - acc: 0.4667 - val_loss: 1.0426 - val_acc: 0.4688\n",
      "Epoch 54/200\n",
      "14417/14417 [==============================] - 1s 54us/step - loss: 1.0429 - acc: 0.4677 - val_loss: 1.0418 - val_acc: 0.4696\n",
      "Epoch 55/200\n",
      "14417/14417 [==============================] - 1s 71us/step - loss: 1.0425 - acc: 0.4675 - val_loss: 1.0414 - val_acc: 0.4688\n",
      "Epoch 56/200\n",
      "14417/14417 [==============================] - 1s 50us/step - loss: 1.0421 - acc: 0.4672 - val_loss: 1.0412 - val_acc: 0.4707\n",
      "Epoch 57/200\n",
      "14417/14417 [==============================] - 1s 69us/step - loss: 1.0418 - acc: 0.4684 - val_loss: 1.0408 - val_acc: 0.4698\n",
      "Epoch 58/200\n",
      "14417/14417 [==============================] - 1s 66us/step - loss: 1.0414 - acc: 0.4687 - val_loss: 1.0406 - val_acc: 0.4702\n",
      "Epoch 59/200\n"
     ]
    },
    {
     "name": "stdout",
     "output_type": "stream",
     "text": [
      "14417/14417 [==============================] - 1s 68us/step - loss: 1.0411 - acc: 0.4684 - val_loss: 1.0401 - val_acc: 0.4702\n",
      "Epoch 60/200\n",
      "14417/14417 [==============================] - 1s 44us/step - loss: 1.0407 - acc: 0.4686 - val_loss: 1.0402 - val_acc: 0.4694\n",
      "Epoch 61/200\n",
      "14417/14417 [==============================] - 1s 43us/step - loss: 1.0406 - acc: 0.4684 - val_loss: 1.0398 - val_acc: 0.4696\n",
      "Epoch 62/200\n",
      "14417/14417 [==============================] - 1s 53us/step - loss: 1.0403 - acc: 0.4683 - val_loss: 1.0396 - val_acc: 0.4711\n",
      "Epoch 63/200\n",
      "14417/14417 [==============================] - 1s 69us/step - loss: 1.0401 - acc: 0.4681 - val_loss: 1.0391 - val_acc: 0.4709\n",
      "Epoch 64/200\n",
      "14417/14417 [==============================] - 1s 59us/step - loss: 1.0398 - acc: 0.4688 - val_loss: 1.0391 - val_acc: 0.4694\n",
      "Epoch 65/200\n",
      "14417/14417 [==============================] - 1s 69us/step - loss: 1.0397 - acc: 0.4703 - val_loss: 1.0387 - val_acc: 0.4713\n",
      "Epoch 66/200\n",
      "14417/14417 [==============================] - 1s 88us/step - loss: 1.0394 - acc: 0.4697 - val_loss: 1.0391 - val_acc: 0.4696\n",
      "Epoch 67/200\n",
      "14417/14417 [==============================] - 1s 50us/step - loss: 1.0393 - acc: 0.4706 - val_loss: 1.0383 - val_acc: 0.4705\n",
      "Epoch 68/200\n",
      "14417/14417 [==============================] - 1s 83us/step - loss: 1.0391 - acc: 0.4703 - val_loss: 1.0385 - val_acc: 0.4702\n",
      "Epoch 69/200\n",
      "14417/14417 [==============================] - 1s 83us/step - loss: 1.0390 - acc: 0.4710 - val_loss: 1.0381 - val_acc: 0.4702\n",
      "Epoch 70/200\n",
      "14417/14417 [==============================] - 1s 77us/step - loss: 1.0389 - acc: 0.4694 - val_loss: 1.0379 - val_acc: 0.4700\n",
      "Epoch 71/200\n",
      "14417/14417 [==============================] - 1s 78us/step - loss: 1.0387 - acc: 0.4703 - val_loss: 1.0378 - val_acc: 0.4705\n",
      "Epoch 72/200\n",
      "14417/14417 [==============================] - 1s 81us/step - loss: 1.0385 - acc: 0.4683 - val_loss: 1.0378 - val_acc: 0.4709\n",
      "Epoch 73/200\n",
      "14417/14417 [==============================] - 1s 81us/step - loss: 1.0384 - acc: 0.4699 - val_loss: 1.0378 - val_acc: 0.4711\n",
      "Epoch 74/200\n",
      "14417/14417 [==============================] - 1s 89us/step - loss: 1.0384 - acc: 0.4710 - val_loss: 1.0374 - val_acc: 0.4705\n",
      "Epoch 75/200\n",
      "14417/14417 [==============================] - 1s 84us/step - loss: 1.0380 - acc: 0.4722 - val_loss: 1.0376 - val_acc: 0.4721\n",
      "Epoch 76/200\n",
      "14417/14417 [==============================] - 1s 66us/step - loss: 1.0381 - acc: 0.4706 - val_loss: 1.0373 - val_acc: 0.4696\n",
      "Epoch 77/200\n",
      "14417/14417 [==============================] - 1s 54us/step - loss: 1.0380 - acc: 0.4701 - val_loss: 1.0371 - val_acc: 0.4707\n",
      "Epoch 78/200\n",
      "14417/14417 [==============================] - 1s 49us/step - loss: 1.0378 - acc: 0.4708 - val_loss: 1.0370 - val_acc: 0.4698\n",
      "Epoch 79/200\n",
      "14417/14417 [==============================] - 1s 82us/step - loss: 1.0378 - acc: 0.4710 - val_loss: 1.0369 - val_acc: 0.4709\n",
      "Epoch 80/200\n",
      "14417/14417 [==============================] - 1s 70us/step - loss: 1.0376 - acc: 0.4701 - val_loss: 1.0368 - val_acc: 0.4700\n",
      "Epoch 81/200\n",
      "14417/14417 [==============================] - 1s 54us/step - loss: 1.0376 - acc: 0.4717 - val_loss: 1.0368 - val_acc: 0.4700\n",
      "Epoch 82/200\n",
      "14417/14417 [==============================] - 1s 41us/step - loss: 1.0375 - acc: 0.4717 - val_loss: 1.0370 - val_acc: 0.4730\n",
      "Epoch 83/200\n",
      "14417/14417 [==============================] - 1s 68us/step - loss: 1.0374 - acc: 0.4724 - val_loss: 1.0365 - val_acc: 0.4705\n",
      "Epoch 84/200\n",
      "14417/14417 [==============================] - 1s 54us/step - loss: 1.0374 - acc: 0.4713 - val_loss: 1.0364 - val_acc: 0.4709\n",
      "Epoch 85/200\n",
      "14417/14417 [==============================] - 1s 58us/step - loss: 1.0372 - acc: 0.4715 - val_loss: 1.0369 - val_acc: 0.4736\n",
      "Epoch 86/200\n",
      "14417/14417 [==============================] - 1s 60us/step - loss: 1.0371 - acc: 0.4737 - val_loss: 1.0363 - val_acc: 0.4711\n",
      "Epoch 87/200\n",
      "14417/14417 [==============================] - 1s 65us/step - loss: 1.0371 - acc: 0.4721 - val_loss: 1.0363 - val_acc: 0.4717\n",
      "Epoch 88/200\n",
      "14417/14417 [==============================] - 1s 51us/step - loss: 1.0370 - acc: 0.4724 - val_loss: 1.0362 - val_acc: 0.4727\n",
      "Epoch 89/200\n",
      "14417/14417 [==============================] - 1s 55us/step - loss: 1.0369 - acc: 0.4715 - val_loss: 1.0362 - val_acc: 0.4738\n",
      "Epoch 90/200\n",
      "14417/14417 [==============================] - 1s 55us/step - loss: 1.0367 - acc: 0.4715 - val_loss: 1.0360 - val_acc: 0.4705\n",
      "Epoch 91/200\n",
      "14417/14417 [==============================] - 1s 74us/step - loss: 1.0368 - acc: 0.4722 - val_loss: 1.0362 - val_acc: 0.4738\n",
      "Epoch 92/200\n",
      "14417/14417 [==============================] - 1s 74us/step - loss: 1.0367 - acc: 0.4726 - val_loss: 1.0361 - val_acc: 0.4736\n",
      "Epoch 93/200\n",
      "14417/14417 [==============================] - 1s 54us/step - loss: 1.0366 - acc: 0.4714 - val_loss: 1.0358 - val_acc: 0.4732\n",
      "Epoch 94/200\n",
      "14417/14417 [==============================] - 1s 51us/step - loss: 1.0365 - acc: 0.4711 - val_loss: 1.0361 - val_acc: 0.4730\n",
      "Epoch 95/200\n",
      "14417/14417 [==============================] - 1s 46us/step - loss: 1.0365 - acc: 0.4731 - val_loss: 1.0361 - val_acc: 0.4750\n",
      "Epoch 96/200\n",
      "14417/14417 [==============================] - 1s 52us/step - loss: 1.0365 - acc: 0.4718 - val_loss: 1.0360 - val_acc: 0.4730\n",
      "Epoch 97/200\n",
      "14417/14417 [==============================] - 1s 58us/step - loss: 1.0363 - acc: 0.4728 - val_loss: 1.0355 - val_acc: 0.4711\n",
      "Epoch 98/200\n",
      "14417/14417 [==============================] - 1s 47us/step - loss: 1.0364 - acc: 0.4722 - val_loss: 1.0359 - val_acc: 0.4736\n",
      "Epoch 99/200\n",
      "14417/14417 [==============================] - 1s 59us/step - loss: 1.0363 - acc: 0.4727 - val_loss: 1.0358 - val_acc: 0.4736\n",
      "Epoch 100/200\n",
      "14417/14417 [==============================] - 1s 60us/step - loss: 1.0362 - acc: 0.4720 - val_loss: 1.0356 - val_acc: 0.4752\n",
      "Epoch 101/200\n",
      "14417/14417 [==============================] - 1s 54us/step - loss: 1.0360 - acc: 0.4719 - val_loss: 1.0359 - val_acc: 0.4725\n",
      "Epoch 102/200\n",
      "14417/14417 [==============================] - 1s 50us/step - loss: 1.0361 - acc: 0.4718 - val_loss: 1.0353 - val_acc: 0.4734\n",
      "Epoch 103/200\n",
      "14417/14417 [==============================] - 1s 47us/step - loss: 1.0360 - acc: 0.4719 - val_loss: 1.0354 - val_acc: 0.4752\n",
      "Epoch 104/200\n",
      "14417/14417 [==============================] - 1s 47us/step - loss: 1.0359 - acc: 0.4721 - val_loss: 1.0351 - val_acc: 0.4715\n",
      "Epoch 105/200\n",
      "14417/14417 [==============================] - 1s 62us/step - loss: 1.0357 - acc: 0.4728 - val_loss: 1.0354 - val_acc: 0.4719\n",
      "Epoch 106/200\n",
      "14417/14417 [==============================] - 1s 48us/step - loss: 1.0359 - acc: 0.4730 - val_loss: 1.0355 - val_acc: 0.4750\n",
      "Epoch 107/200\n",
      "14417/14417 [==============================] - 1s 40us/step - loss: 1.0358 - acc: 0.4727 - val_loss: 1.0349 - val_acc: 0.4715\n",
      "Epoch 108/200\n",
      "14417/14417 [==============================] - 1s 42us/step - loss: 1.0358 - acc: 0.4726 - val_loss: 1.0351 - val_acc: 0.4757\n",
      "Epoch 109/200\n",
      "14417/14417 [==============================] - 1s 43us/step - loss: 1.0357 - acc: 0.4712 - val_loss: 1.0352 - val_acc: 0.4744\n",
      "Epoch 110/200\n",
      "14417/14417 [==============================] - 1s 46us/step - loss: 1.0356 - acc: 0.4726 - val_loss: 1.0348 - val_acc: 0.4717\n",
      "Epoch 111/200\n",
      "14417/14417 [==============================] - 1s 44us/step - loss: 1.0356 - acc: 0.4721 - val_loss: 1.0347 - val_acc: 0.4711\n",
      "Epoch 112/200\n",
      "14417/14417 [==============================] - 1s 44us/step - loss: 1.0356 - acc: 0.4733 - val_loss: 1.0347 - val_acc: 0.4723\n",
      "Epoch 113/200\n",
      "14417/14417 [==============================] - 1s 52us/step - loss: 1.0355 - acc: 0.4723 - val_loss: 1.0348 - val_acc: 0.4752\n",
      "Epoch 114/200\n",
      "14417/14417 [==============================] - 1s 68us/step - loss: 1.0355 - acc: 0.4733 - val_loss: 1.0348 - val_acc: 0.4757\n",
      "Epoch 115/200\n",
      "14417/14417 [==============================] - 1s 99us/step - loss: 1.0353 - acc: 0.4729 - val_loss: 1.0347 - val_acc: 0.4717\n",
      "Epoch 116/200\n",
      "14417/14417 [==============================] - 1s 71us/step - loss: 1.0354 - acc: 0.4713 - val_loss: 1.0345 - val_acc: 0.4744\n",
      "Epoch 117/200\n",
      "14417/14417 [==============================] - 1s 60us/step - loss: 1.0353 - acc: 0.4725 - val_loss: 1.0345 - val_acc: 0.4738\n"
     ]
    },
    {
     "name": "stdout",
     "output_type": "stream",
     "text": [
      "Epoch 118/200\n",
      "14417/14417 [==============================] - 1s 57us/step - loss: 1.0353 - acc: 0.4732 - val_loss: 1.0347 - val_acc: 0.4757\n",
      "Epoch 119/200\n",
      "14417/14417 [==============================] - 1s 50us/step - loss: 1.0352 - acc: 0.4733 - val_loss: 1.0346 - val_acc: 0.4750\n",
      "Epoch 120/200\n",
      "14417/14417 [==============================] - 1s 63us/step - loss: 1.0351 - acc: 0.4728 - val_loss: 1.0347 - val_acc: 0.4744\n",
      "Epoch 121/200\n",
      "14417/14417 [==============================] - 1s 69us/step - loss: 1.0350 - acc: 0.4725 - val_loss: 1.0346 - val_acc: 0.4742\n",
      "Epoch 122/200\n",
      "14417/14417 [==============================] - 1s 48us/step - loss: 1.0351 - acc: 0.4723 - val_loss: 1.0344 - val_acc: 0.4748\n",
      "Epoch 123/200\n",
      "14417/14417 [==============================] - 1s 45us/step - loss: 1.0350 - acc: 0.4727 - val_loss: 1.0342 - val_acc: 0.4742\n",
      "Epoch 124/200\n",
      "14417/14417 [==============================] - 1s 43us/step - loss: 1.0350 - acc: 0.4739 - val_loss: 1.0342 - val_acc: 0.4711\n",
      "Epoch 125/200\n",
      "14417/14417 [==============================] - 1s 40us/step - loss: 1.0349 - acc: 0.4724 - val_loss: 1.0343 - val_acc: 0.4725\n",
      "Epoch 126/200\n",
      "14417/14417 [==============================] - 1s 42us/step - loss: 1.0349 - acc: 0.4738 - val_loss: 1.0344 - val_acc: 0.4754\n",
      "Epoch 127/200\n",
      "14417/14417 [==============================] - 1s 42us/step - loss: 1.0349 - acc: 0.4730 - val_loss: 1.0342 - val_acc: 0.4725\n",
      "Epoch 128/200\n",
      "14417/14417 [==============================] - 1s 41us/step - loss: 1.0348 - acc: 0.4731 - val_loss: 1.0341 - val_acc: 0.4707\n",
      "Epoch 129/200\n",
      "14417/14417 [==============================] - 1s 42us/step - loss: 1.0348 - acc: 0.4727 - val_loss: 1.0342 - val_acc: 0.4750\n",
      "Epoch 130/200\n",
      "14417/14417 [==============================] - 1s 43us/step - loss: 1.0347 - acc: 0.4733 - val_loss: 1.0340 - val_acc: 0.4725\n",
      "Epoch 131/200\n",
      "14417/14417 [==============================] - 1s 41us/step - loss: 1.0346 - acc: 0.4750 - val_loss: 1.0347 - val_acc: 0.4761\n",
      "Epoch 132/200\n",
      "14417/14417 [==============================] - 1s 41us/step - loss: 1.0347 - acc: 0.4735 - val_loss: 1.0341 - val_acc: 0.4736\n",
      "Epoch 133/200\n",
      "14417/14417 [==============================] - 1s 40us/step - loss: 1.0347 - acc: 0.4733 - val_loss: 1.0340 - val_acc: 0.4744\n",
      "Epoch 134/200\n",
      "14417/14417 [==============================] - 1s 40us/step - loss: 1.0345 - acc: 0.4752 - val_loss: 1.0340 - val_acc: 0.4717\n",
      "Epoch 135/200\n",
      "14417/14417 [==============================] - 1s 39us/step - loss: 1.0346 - acc: 0.4734 - val_loss: 1.0340 - val_acc: 0.4734\n",
      "Epoch 136/200\n",
      "14417/14417 [==============================] - 1s 40us/step - loss: 1.0346 - acc: 0.4724 - val_loss: 1.0340 - val_acc: 0.4746\n",
      "Epoch 137/200\n",
      "14417/14417 [==============================] - 1s 41us/step - loss: 1.0345 - acc: 0.4720 - val_loss: 1.0338 - val_acc: 0.4736\n",
      "Epoch 138/200\n",
      "14417/14417 [==============================] - 1s 45us/step - loss: 1.0345 - acc: 0.4731 - val_loss: 1.0338 - val_acc: 0.4740\n",
      "Epoch 139/200\n",
      "14417/14417 [==============================] - 1s 40us/step - loss: 1.0343 - acc: 0.4745 - val_loss: 1.0340 - val_acc: 0.4773\n",
      "Epoch 140/200\n",
      "14417/14417 [==============================] - 1s 41us/step - loss: 1.0343 - acc: 0.4728 - val_loss: 1.0345 - val_acc: 0.4771\n",
      "Epoch 141/200\n",
      "14417/14417 [==============================] - 1s 41us/step - loss: 1.0343 - acc: 0.4745 - val_loss: 1.0337 - val_acc: 0.4725\n",
      "Epoch 142/200\n",
      "14417/14417 [==============================] - 1s 40us/step - loss: 1.0344 - acc: 0.4743 - val_loss: 1.0336 - val_acc: 0.4740\n",
      "Epoch 143/200\n",
      "14417/14417 [==============================] - 1s 53us/step - loss: 1.0343 - acc: 0.4731 - val_loss: 1.0339 - val_acc: 0.4769\n",
      "Epoch 144/200\n",
      "14417/14417 [==============================] - 1s 47us/step - loss: 1.0343 - acc: 0.4734 - val_loss: 1.0341 - val_acc: 0.4779\n",
      "Epoch 145/200\n",
      "14417/14417 [==============================] - 1s 41us/step - loss: 1.0342 - acc: 0.4738 - val_loss: 1.0335 - val_acc: 0.4727\n",
      "Epoch 146/200\n",
      "14417/14417 [==============================] - 1s 43us/step - loss: 1.0342 - acc: 0.4737 - val_loss: 1.0337 - val_acc: 0.4754\n",
      "Epoch 147/200\n",
      "14417/14417 [==============================] - 1s 48us/step - loss: 1.0342 - acc: 0.4732 - val_loss: 1.0341 - val_acc: 0.4779\n",
      "Epoch 148/200\n",
      "14417/14417 [==============================] - 1s 48us/step - loss: 1.0342 - acc: 0.4732 - val_loss: 1.0336 - val_acc: 0.4740\n",
      "Epoch 149/200\n",
      "14417/14417 [==============================] - 1s 44us/step - loss: 1.0342 - acc: 0.4731 - val_loss: 1.0334 - val_acc: 0.4752\n",
      "Epoch 150/200\n",
      "14417/14417 [==============================] - 1s 47us/step - loss: 1.0341 - acc: 0.4719 - val_loss: 1.0341 - val_acc: 0.4769\n",
      "Epoch 151/200\n",
      "14417/14417 [==============================] - 1s 40us/step - loss: 1.0341 - acc: 0.4719 - val_loss: 1.0335 - val_acc: 0.4750\n",
      "Epoch 152/200\n",
      "14417/14417 [==============================] - 1s 40us/step - loss: 1.0341 - acc: 0.4731 - val_loss: 1.0334 - val_acc: 0.4721\n",
      "Epoch 153/200\n",
      "14417/14417 [==============================] - 1s 40us/step - loss: 1.0340 - acc: 0.4725 - val_loss: 1.0346 - val_acc: 0.4752\n",
      "Epoch 154/200\n",
      "14417/14417 [==============================] - 1s 42us/step - loss: 1.0340 - acc: 0.4725 - val_loss: 1.0337 - val_acc: 0.4769\n",
      "Epoch 155/200\n",
      "14417/14417 [==============================] - 1s 66us/step - loss: 1.0340 - acc: 0.4728 - val_loss: 1.0338 - val_acc: 0.4775\n",
      "Epoch 156/200\n",
      "14417/14417 [==============================] - 1s 39us/step - loss: 1.0338 - acc: 0.4730 - val_loss: 1.0337 - val_acc: 0.4713\n",
      "Epoch 157/200\n",
      "14417/14417 [==============================] - 1s 41us/step - loss: 1.0340 - acc: 0.4724 - val_loss: 1.0337 - val_acc: 0.4773\n",
      "Epoch 158/200\n",
      "14417/14417 [==============================] - 1s 39us/step - loss: 1.0339 - acc: 0.4733 - val_loss: 1.0336 - val_acc: 0.4738\n",
      "Epoch 159/200\n",
      "14417/14417 [==============================] - 1s 40us/step - loss: 1.0339 - acc: 0.4729 - val_loss: 1.0332 - val_acc: 0.4715\n",
      "Epoch 160/200\n",
      "14417/14417 [==============================] - 1s 42us/step - loss: 1.0338 - acc: 0.4733 - val_loss: 1.0334 - val_acc: 0.4767\n",
      "Epoch 161/200\n",
      "14417/14417 [==============================] - 1s 41us/step - loss: 1.0339 - acc: 0.4727 - val_loss: 1.0333 - val_acc: 0.4769\n",
      "Epoch 162/200\n",
      "14417/14417 [==============================] - 1s 45us/step - loss: 1.0337 - acc: 0.4728 - val_loss: 1.0338 - val_acc: 0.4782\n",
      "Epoch 163/200\n",
      "14417/14417 [==============================] - 1s 57us/step - loss: 1.0339 - acc: 0.4733 - val_loss: 1.0332 - val_acc: 0.4740\n",
      "Epoch 164/200\n",
      "14417/14417 [==============================] - 1s 50us/step - loss: 1.0337 - acc: 0.4720 - val_loss: 1.0331 - val_acc: 0.4721\n",
      "Epoch 165/200\n",
      "14417/14417 [==============================] - 1s 56us/step - loss: 1.0337 - acc: 0.4722 - val_loss: 1.0335 - val_acc: 0.4763\n",
      "Epoch 166/200\n",
      "14417/14417 [==============================] - 1s 53us/step - loss: 1.0337 - acc: 0.4717 - val_loss: 1.0331 - val_acc: 0.4715\n",
      "Epoch 167/200\n",
      "14417/14417 [==============================] - 1s 71us/step - loss: 1.0337 - acc: 0.4724 - val_loss: 1.0333 - val_acc: 0.4727\n",
      "Epoch 168/200\n",
      "14417/14417 [==============================] - 1s 55us/step - loss: 1.0337 - acc: 0.4744 - val_loss: 1.0332 - val_acc: 0.4744\n",
      "Epoch 169/200\n",
      "14417/14417 [==============================] - 1s 47us/step - loss: 1.0337 - acc: 0.4735 - val_loss: 1.0332 - val_acc: 0.4775\n",
      "Epoch 170/200\n",
      "14417/14417 [==============================] - 1s 44us/step - loss: 1.0337 - acc: 0.4733 - val_loss: 1.0330 - val_acc: 0.4740\n",
      "Epoch 171/200\n",
      "14417/14417 [==============================] - 1s 40us/step - loss: 1.0335 - acc: 0.4746 - val_loss: 1.0331 - val_acc: 0.4727\n",
      "Epoch 172/200\n",
      "14417/14417 [==============================] - 1s 40us/step - loss: 1.0336 - acc: 0.4726 - val_loss: 1.0332 - val_acc: 0.4786\n",
      "Epoch 173/200\n",
      "14417/14417 [==============================] - 1s 52us/step - loss: 1.0335 - acc: 0.4730 - val_loss: 1.0332 - val_acc: 0.4719\n",
      "Epoch 174/200\n",
      "14417/14417 [==============================] - 1s 82us/step - loss: 1.0337 - acc: 0.4729 - val_loss: 1.0332 - val_acc: 0.4784\n",
      "Epoch 175/200\n",
      "14417/14417 [==============================] - 1s 66us/step - loss: 1.0335 - acc: 0.4726 - val_loss: 1.0330 - val_acc: 0.4759\n",
      "Epoch 176/200\n"
     ]
    },
    {
     "name": "stdout",
     "output_type": "stream",
     "text": [
      "14417/14417 [==============================] - 1s 41us/step - loss: 1.0335 - acc: 0.4732 - val_loss: 1.0333 - val_acc: 0.4777\n",
      "Epoch 177/200\n",
      "14417/14417 [==============================] - 1s 79us/step - loss: 1.0336 - acc: 0.4730 - val_loss: 1.0334 - val_acc: 0.4790\n",
      "Epoch 178/200\n",
      "14417/14417 [==============================] - 1s 54us/step - loss: 1.0336 - acc: 0.4740 - val_loss: 1.0329 - val_acc: 0.4738\n",
      "Epoch 179/200\n",
      "14417/14417 [==============================] - 1s 80us/step - loss: 1.0336 - acc: 0.4740 - val_loss: 1.0331 - val_acc: 0.4773\n",
      "Epoch 180/200\n",
      "14417/14417 [==============================] - 1s 71us/step - loss: 1.0335 - acc: 0.4731 - val_loss: 1.0332 - val_acc: 0.4742\n",
      "Epoch 181/200\n",
      "14417/14417 [==============================] - 1s 72us/step - loss: 1.0336 - acc: 0.4727 - val_loss: 1.0332 - val_acc: 0.4769\n",
      "Epoch 182/200\n",
      "14417/14417 [==============================] - 1s 53us/step - loss: 1.0335 - acc: 0.4740 - val_loss: 1.0331 - val_acc: 0.4782\n",
      "Epoch 183/200\n",
      "14417/14417 [==============================] - 1s 42us/step - loss: 1.0335 - acc: 0.4732 - val_loss: 1.0329 - val_acc: 0.4744\n",
      "Epoch 184/200\n",
      "14417/14417 [==============================] - 1s 47us/step - loss: 1.0333 - acc: 0.4731 - val_loss: 1.0337 - val_acc: 0.4769\n",
      "Epoch 185/200\n",
      "14417/14417 [==============================] - 1s 46us/step - loss: 1.0334 - acc: 0.4743 - val_loss: 1.0328 - val_acc: 0.4734\n",
      "Epoch 186/200\n",
      "14417/14417 [==============================] - 1s 45us/step - loss: 1.0333 - acc: 0.4736 - val_loss: 1.0329 - val_acc: 0.4736\n",
      "Epoch 187/200\n",
      "14417/14417 [==============================] - 1s 51us/step - loss: 1.0335 - acc: 0.4730 - val_loss: 1.0332 - val_acc: 0.4790\n",
      "Epoch 188/200\n",
      "14417/14417 [==============================] - 1s 50us/step - loss: 1.0334 - acc: 0.4726 - val_loss: 1.0332 - val_acc: 0.4790\n",
      "Epoch 189/200\n",
      "14417/14417 [==============================] - 1s 47us/step - loss: 1.0333 - acc: 0.4727 - val_loss: 1.0331 - val_acc: 0.4790\n",
      "Epoch 190/200\n",
      "14417/14417 [==============================] - 1s 49us/step - loss: 1.0334 - acc: 0.4719 - val_loss: 1.0337 - val_acc: 0.4771\n",
      "Epoch 191/200\n",
      "14417/14417 [==============================] - 1s 45us/step - loss: 1.0335 - acc: 0.4724 - val_loss: 1.0332 - val_acc: 0.4790\n",
      "Epoch 192/200\n",
      "14417/14417 [==============================] - 1s 45us/step - loss: 1.0333 - acc: 0.4730 - val_loss: 1.0331 - val_acc: 0.4730\n",
      "Epoch 193/200\n",
      "14417/14417 [==============================] - 1s 58us/step - loss: 1.0333 - acc: 0.4729 - val_loss: 1.0334 - val_acc: 0.4790\n",
      "Epoch 194/200\n",
      "14417/14417 [==============================] - 1s 56us/step - loss: 1.0333 - acc: 0.4734 - val_loss: 1.0330 - val_acc: 0.4779\n",
      "Epoch 195/200\n",
      "14417/14417 [==============================] - 1s 47us/step - loss: 1.0332 - acc: 0.4743 - val_loss: 1.0330 - val_acc: 0.4746\n",
      "Epoch 196/200\n",
      "14417/14417 [==============================] - 1s 52us/step - loss: 1.0333 - acc: 0.4739 - val_loss: 1.0328 - val_acc: 0.4750\n",
      "Epoch 197/200\n",
      "14417/14417 [==============================] - 1s 50us/step - loss: 1.0332 - acc: 0.4732 - val_loss: 1.0327 - val_acc: 0.4740\n",
      "Epoch 198/200\n",
      "14417/14417 [==============================] - 1s 43us/step - loss: 1.0333 - acc: 0.4719 - val_loss: 1.0330 - val_acc: 0.4779\n",
      "Epoch 199/200\n",
      "14417/14417 [==============================] - 1s 42us/step - loss: 1.0333 - acc: 0.4726 - val_loss: 1.0330 - val_acc: 0.4734\n",
      "Epoch 200/200\n",
      "14417/14417 [==============================] - 1s 59us/step - loss: 1.0332 - acc: 0.4731 - val_loss: 1.0329 - val_acc: 0.4782\n"
     ]
    }
   ],
   "source": [
    "fitted = network.fit(X_train, y_train, epochs=200, batch_size=32, validation_data=(X_val, y_val))"
   ]
  },
  {
   "cell_type": "markdown",
   "metadata": {},
   "source": [
    "# Statistics"
   ]
  },
  {
   "cell_type": "code",
   "execution_count": 138,
   "metadata": {},
   "outputs": [],
   "source": [
    "\n",
    "network.save('model_mlp3.h5')  # creates a HDF5 file 'my_model.h5'\n",
    "\n"
   ]
  },
  {
   "cell_type": "code",
   "execution_count": 131,
   "metadata": {},
   "outputs": [
    {
     "name": "stdout",
     "output_type": "stream",
     "text": [
      "dict_keys(['val_loss', 'val_acc', 'loss', 'acc'])\n"
     ]
    },
    {
     "data": {
      "text/plain": [
       "<matplotlib.legend.Legend at 0x1a2ceaeef0>"
      ]
     },
     "execution_count": 131,
     "metadata": {},
     "output_type": "execute_result"
    },
    {
     "data": {
      "image/png": "[encoded data removed]",
      "text/plain": [
       "<Figure size 432x288 with 1 Axes>"
      ]
     },
     "metadata": {
      "needs_background": "light"
     },
     "output_type": "display_data"
    }
   ],
   "source": [
    "history = fitted \n",
    "   \n",
    "print(history.history.keys())  \n",
    "   \n",
    "plt.figure(1)  \n",
    "   \n",
    "# summarize history for accuracy  \n",
    "   \n",
    "plt.subplot(211)  \n",
    "plt.plot(history.history['acc'],color ='black',linestyle='dashed')  \n",
    "plt.plot(history.history['val_acc'],color ='grey',linestyle='solid')  \n",
    "plt.title('model accuracy')  \n",
    "plt.ylabel('accuracy')  \n",
    "plt.xlabel('epoch')  \n",
    "plt.legend(['train', 'test'], loc='upper left')  \n",
    "#plt.savefig('model-12-1.png')\n",
    "\n"
   ]
  },
  {
   "cell_type": "code",
   "execution_count": 132,
   "metadata": {},
   "outputs": [
    {
     "data": {
      "text/plain": [
       "<matplotlib.legend.Legend at 0x1a2bd05c18>"
      ]
     },
     "execution_count": 132,
     "metadata": {},
     "output_type": "execute_result"
    },
    {
     "data": {
      "image/png": "[encoded data removed]",
      "text/plain": [
       "<Figure size 432x288 with 1 Axes>"
      ]
     },
     "metadata": {
      "needs_background": "light"
     },
     "output_type": "display_data"
    }
   ],
   "source": [
    " # summarize history for loss  \n",
    "\n",
    "plt.subplot(212)  \n",
    "\n",
    "plt.plot(history.history['loss'],color ='black',linestyle='dashed')  \n",
    "plt.plot(history.history['val_loss'],color ='grey',linestyle='solid')  \n",
    "plt.title('model loss')  \n",
    "plt.ylabel('loss')  \n",
    "plt.xlabel('epoch')  \n",
    "plt.legend(['train', 'test'], loc='upper left')  \n",
    "#plt.savefig('model-12-2.png')\n"
   ]
  },
  {
   "cell_type": "code",
   "execution_count": 133,
   "metadata": {},
   "outputs": [
    {
     "name": "stdout",
     "output_type": "stream",
     "text": [
      "4806/4806 [==============================] - 0s 30us/step\n",
      "\n",
      "Loss = \t\t1.027355612440502\n",
      "Accuracy = \t0.4787765293383271\n",
      "Random \t= \t0.33\n"
     ]
    }
   ],
   "source": [
    "scores = network.evaluate(X_test, y_test)\n",
    "loss = scores[0]\n",
    "accuracy = scores[1]\n",
    "\n",
    "\n",
    "print()\n",
    "print(\"Loss = \\t\\t{}\".format(loss))\n",
    "print(\"Accuracy = \\t{}\".format(accuracy))\n",
    "print(\"Random \\t= \\t0.33\")\n",
    "#print(\"On Distr = \\t{}\".format(df.label.value_counts()[0]/sum(df.label.value_counts())*100))\n"
   ]
  }
 ],
 "metadata": {
  "kernelspec": {
   "display_name": "Python 3",
   "language": "python",
   "name": "python3"
  },
  "language_info": {
   "codemirror_mode": {
    "name": "ipython",
    "version": 3
   },
   "file_extension": ".py",
   "mimetype": "text/x-python",
   "name": "python",
   "nbconvert_exporter": "python",
   "pygments_lexer": "ipython3",
   "version": "3.7.1"
  }
 },
 "nbformat": 4,
 "nbformat_minor": 2
}
